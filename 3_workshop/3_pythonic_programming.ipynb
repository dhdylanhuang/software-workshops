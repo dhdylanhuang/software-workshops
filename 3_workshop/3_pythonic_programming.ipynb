{
 "cells": [
  {
   "cell_type": "markdown",
   "metadata": {},
   "source": [
    "# Object oriented programming\n",
    "\n",
    "\n",
    "\n",
    "## What is object oriented programming?\n",
    "\n",
    "Object oriented programming is a way of programming that was first introduced with java. With object OOP so called objects are introduced which create a logical and realistic way of groupping information. In python (and many other languages) objects are defined with classes:"
   ]
  },
  {
   "cell_type": "code",
   "execution_count": null,
   "outputs": [],
   "source": [
    "class Vehicle:\n",
    "    def __init__(self):\n",
    "        ..."
   ],
   "metadata": {
    "collapsed": false
   }
  },
  {
   "cell_type": "markdown",
   "source": [
    "\n",
    "\n",
    "\n",
    "\n",
    "## What are classes?\n",
    "Classes are a logical scope of a program groupping variables and functions respectively.\n",
    "### Why do we need scoping?\n",
    "<img alt=\"Scoping example\" src=\"scoping.png\" title=\"Scoping example\" width=\"800\"/>\n",
    "\n",
    "- helps the garbage collector\n",
    "- Helps with variable naming\n",
    "- Helps with unwanted access to functions\n",
    "\n",
    "### Scoping in related to classes\n",
    "Lets redefine the Vehicle class with a few attributes. Attributes are variables that are part of an object. We can specifically tell python that a variable is a property as well.\n"
   ],
   "metadata": {
    "collapsed": false
   }
  },
  {
   "cell_type": "code",
   "execution_count": null,
   "outputs": [],
   "source": [
    "class Vehicle:\n",
    "    def __init__(self,type):\n",
    "        self.type = type #creates an instance variabe\n",
    "       \n",
    "    def __repr__(self):\n",
    "        return f\"from type {self.type}\"\n",
    "    \n",
    "car = Vehicle(\"car\") # object containing type car\n",
    "plane = Vehicle(\"plane\") # object containing type plane\n",
    "print(car)\n",
    "print(plane)"
   ],
   "metadata": {
    "collapsed": false
   }
  },
  {
   "cell_type": "markdown",
   "source": [
    "If we would print the inner variable state we would get the same types. (__repr__ actually does the same thing, you can specify how an object is represented when you call print on it)"
   ],
   "metadata": {
    "collapsed": false
   }
  },
  {
   "cell_type": "code",
   "execution_count": null,
   "outputs": [],
   "source": [
    "print(car.type)"
   ],
   "metadata": {
    "collapsed": false
   }
  },
  {
   "cell_type": "markdown",
   "source": [
    "I mentioned that we can set properties in classes specifically, this is useful if we have a function to compute variables on the fly and you don't want separate getters and setters for that."
   ],
   "metadata": {
    "collapsed": false
   }
  },
  {
   "cell_type": "code",
   "execution_count": null,
   "outputs": [],
   "source": [
    "class Vehicle:\n",
    "    def __init__(self,type:str,top_speed:int):\n",
    "        self.type = type #creates an instance variabe\n",
    "        self.top_speed = top_speed \n",
    "    \n",
    "    @property\n",
    "    def is_fast(self):\n",
    "        if self.top_speed > 100:\n",
    "            return \"very speed\"\n",
    "        else:\n",
    "            return \"not so speed\"\n",
    "\n",
    "    def __repr__(self):\n",
    "        return f\"from type {self.type}\"\n",
    "\n",
    "car = Vehicle(\"car\",50) # object containing type car\n",
    "plane = Vehicle(\"plane\",500) # object containing type plane\n",
    "print(f\"The car is {car.is_fast}\")\n",
    "print(f\"The plane is {plane.is_fast}\")"
   ],
   "metadata": {
    "collapsed": false
   }
  },
  {
   "cell_type": "markdown",
   "source": [
    "## Inharitance\n",
    "Lets say I have a few classes where the majority of the functionality is the same. In cases like this we use inharitance. \n"
   ],
   "metadata": {
    "collapsed": false
   }
  },
  {
   "cell_type": "code",
   "execution_count": null,
   "outputs": [],
   "source": [
    "from abc import ABC\n",
    "class Vehicle(ABC): # specifies an abstract class (these classes cant be instantiated)\n",
    "    def go_forward(self):\n",
    "        return \"going forward\"\n",
    "        \n",
    "class Car(Vehicle):\n",
    "    \n",
    "    def __init__(self):\n",
    "        self.type = \"car\"\n",
    "        \n",
    "    def __repr__(self):\n",
    "        return f\"{self.type} is {self.go_forward()}\"\n",
    "\n",
    "class Plane(Vehicle):\n",
    "\n",
    "    def __init__(self):\n",
    "        self.type = \"plane\"\n",
    "\n",
    "    def __repr__(self):\n",
    "        return f\"{self.type} is {self.go_forward()}\"\n",
    "\n",
    "car = Car()\n",
    "print(car)\n",
    "plane = Plane()\n",
    "print(plane)\n"
   ],
   "metadata": {
    "collapsed": false
   }
  },
  {
   "cell_type": "markdown",
   "source": [
    "Even though in haritance can be useful it is strongly recommended to not use it, as it quickly adds a lot of depth to the code where it's hard to follow.\n",
    "In most cases it is better to get away interfaces, in python there is no explicit interface type however there is `Protocol` class type instead. Protocols basically only define the skeleton of a class rather than do an actual inharitance. This also means they are not enforced during a runtime, however the typechecker can pick it up."
   ],
   "metadata": {
    "collapsed": false
   }
  },
  {
   "cell_type": "code",
   "execution_count": null,
   "outputs": [],
   "source": [
    "from typing import Protocol\n",
    "\n",
    "class IVehicle(Protocol):\n",
    "    def go_forward(self):\n",
    "        ...\n",
    "    def go_backwards(self):\n",
    "        ...\n",
    "    \n",
    "class Car:\n",
    "    def go_forward(self):\n",
    "        print(\"Car is going forward\")\n",
    "        \n",
    "    def go_backwards(self):\n",
    "        print(\"Car is going backwards\")\n",
    "\n",
    "class Plane:\n",
    "    def go_forward(self):\n",
    "        print(\"Plane is going forward\")\n",
    "\n",
    "    def go_backwards(self):\n",
    "        print(\"Plane is going backwards\")\n"
   ],
   "metadata": {
    "collapsed": false
   }
  },
  {
   "cell_type": "markdown",
   "source": [
    "I mentioned typing before and used it in a few examples as well. Typing basically allows us to enforce variable types during writing. However types don't affect runtime, they are not enforced"
   ],
   "metadata": {
    "collapsed": false
   }
  },
  {
   "cell_type": "code",
   "execution_count": null,
   "outputs": [],
   "source": [
    "def print_go_forward_vehicle(vehicle:Vehicle):\n",
    "    vehicle.go_forward()\n",
    "    \n",
    "car = Car()\n",
    "string:str = \"some data\"\n",
    "print_go_forward_vehicle(car)\n",
    "print_go_forward_vehicle(string)"
   ],
   "metadata": {
    "collapsed": false
   }
  },
  {
   "cell_type": "markdown",
   "source": [
    "### Default python datastructures"
   ],
   "metadata": {
    "collapsed": false
   }
  },
  {
   "cell_type": "code",
   "execution_count": null,
   "outputs": [],
   "source": [
    "l:list[int]  = [i for i in range(10)]\n",
    "t:tuple[int,int] = (1,2)\n",
    "d:dict[int:int] = dict([(i,i+1) for i in range(10)])\n",
    "s:set[int] = set([i for i in range(10)])\n",
    "\n",
    "print(l)\n",
    "print(t)\n",
    "print(d)\n",
    "print(s)\n"
   ],
   "metadata": {
    "collapsed": false
   }
  },
  {
   "cell_type": "markdown",
   "source": [
    "## What is the workshop really about?\n",
    "This is what OOP builds on inharitance and reducing dependent code with being as generic as possible. I could go over now the default design patterns however in python you likely won't use them very often as many of them are obsolete now. Rather I will focus on how can you implement functional python systems with as low coupling(inter code dependency) as possible"
   ],
   "metadata": {
    "collapsed": false
   }
  },
  {
   "cell_type": "markdown",
   "metadata": {},
   "source": [
    "# The Pythonic programming\n",
    "In python everything is an object (except from the primitive types), even functions. This basically means and going to be visible later in the workshop, python functions and classes are interchangeable in many ways, and depending on what the specific use case, it makes our choice a bit easier.\n",
    "\n",
    "## Defining classes\n",
    "Classes supposed to have relatively low \"knowledge about the code base\". This means that classes should focus on one specific task but for that very well. A class that has multiple responsibilities isn't very good as it introduces unwanted coupling and makes the class harder to maintain. So in general de default way to define classes is to devide them into categories:\n",
    "- Action first\n",
    "- Data first\n"
   ]
  },
  {
   "cell_type": "code",
   "execution_count": null,
   "metadata": {},
   "outputs": [],
   "source": [
    "\n",
    "class Engine:\n",
    "    def __init__(self,rpm,torque,fuel_consumption):\n",
    "        self.rpm = rpm\n",
    "        self.torque = torque\n",
    "        self.fuel_consumption = fuel_consumption\n",
    "            \n",
    "class CarWithEngine:\n",
    "    def __init__(self,engine:Engine):\n",
    "        self.engine = engine\n",
    "        \n",
    "    def go_forward(self):\n",
    "        print(\"speeding up\")\n",
    "        rpm_new = self.engine.rpm * 2\n",
    "        fuel_new = self.engine.fuel_consumption * 2\n",
    "        self.engine.rpm = rpm_new\n",
    "        \n",
    "    def print_engine_rpm(self):\n",
    "        print(f\"Engine is on {self.engine.rpm} rpm\")\n",
    "        \n",
    "engine = Engine(1000,300,5)\n",
    "car = CarWithEngine(engine)\n",
    "car.print_engine_rpm()\n",
    "car.go_forward()\n",
    "car.print_engine_rpm()\n",
    "\n"
   ]
  },
  {
   "cell_type": "markdown",
   "source": [
    "## Strategy design pattern\n",
    "Used by many specifically for code interchangeability and extension without the need to modify underlying code"
   ],
   "metadata": {
    "collapsed": false
   }
  },
  {
   "cell_type": "code",
   "execution_count": null,
   "outputs": [],
   "source": [
    "class Engine(Protocol):\n",
    "    def get_fuel(self):\n",
    "        ...\n",
    "    def get_torque(self):\n",
    "        ...\n",
    "    \n",
    "class HighPowerEngine:\n",
    "    def __init__ (self):\n",
    "        self.rpm = 1000\n",
    "        self.torque = 1000\n",
    "        self.fuel_consumption = 15\n",
    "        \n",
    "    def get_fuel(self):\n",
    "        return self.fuel_consumption\n",
    "    \n",
    "    def get_torque(self):\n",
    "        return self.torque\n",
    "\n",
    "class LowPowerEngine:\n",
    "    def __init__ (self):\n",
    "        self.rpm = 1000\n",
    "        self.torque = 500\n",
    "        self.fuel_consumption = 7.5\n",
    "\n",
    "    def get_fuel(self):\n",
    "        return self.fuel_consumption\n",
    "\n",
    "    def get_torque(self):\n",
    "        return self.torque\n",
    "    \n",
    "class Truck:\n",
    "    def __init__(self):\n",
    "        self.engine = LowPowerEngine()\n",
    "        \n",
    "    def change_engine(self,new_engine:Engine):\n",
    "        self.engine = new_engine\n",
    "    \n",
    "    def __repr__(self):\n",
    "        return f\"current available torque is {self.engine.torque} and consumption is {self.engine.fuel_consumption}\"\n",
    "    \n",
    "    \n",
    "truck = Truck()\n",
    "print(truck)\n",
    "high_power = HighPowerEngine()\n",
    "truck.change_engine(high_power)\n",
    "print(truck)"
   ],
   "metadata": {
    "collapsed": false
   }
  },
  {
   "cell_type": "markdown",
   "source": [
    "Implement a medium power engine with torque of 750 and fuel of 10"
   ],
   "metadata": {
    "collapsed": false
   }
  },
  {
   "cell_type": "code",
   "execution_count": null,
   "outputs": [],
   "source": [
    "#Your solution here\n"
   ],
   "metadata": {
    "collapsed": false
   }
  },
  {
   "cell_type": "markdown",
   "source": [
    "## State design pattern\n",
    "\n",
    "As the name suggests it is made to represent states in a system. Usually managed by a state controller that transitions the system between states, and executes those states."
   ],
   "metadata": {
    "collapsed": false
   }
  },
  {
   "cell_type": "code",
   "execution_count": null,
   "outputs": [],
   "source": [
    "class IState(Protocol):\n",
    "    def run_state(self):\n",
    "        ...\n",
    "    \n",
    "class IdlingState:\n",
    "    def run_state(self):\n",
    "        print(\"idling...\")\n",
    "\n",
    "class ProcessingState:\n",
    "    def run_state(self):\n",
    "        print(\"processing...\")\n",
    "\n",
    "class StateManager:\n",
    "    def __init__(self):\n",
    "        self.state = IdlingState()\n",
    "        \n",
    "    def transition_to(self,state:IState):\n",
    "        self.state = state\n",
    "       \n",
    "    def execute_state(self):\n",
    "        self.state.run_state()\n",
    "    \n",
    "    def __repr__(self):\n",
    "        return f\"current state is {type(self.state)}\"\n",
    "     \n",
    "proc_state = ProcessingState()\n",
    "\n",
    "manager = StateManager()\n",
    "print(manager)\n",
    "manager.execute_state()\n",
    "\n",
    "manager.transition_to(proc_state)\n",
    "print(manager)\n",
    "manager.execute_state()\n",
    "        "
   ],
   "metadata": {
    "collapsed": false
   }
  },
  {
   "cell_type": "markdown",
   "source": [
    "In most scenarios where the state design patter would be used, using full classes might be a bit too overkill. As I mentioned before functions are also objects in python, such that we can leverage that functionality to simplify the pattern"
   ],
   "metadata": {
    "collapsed": false
   }
  },
  {
   "cell_type": "code",
   "execution_count": null,
   "outputs": [],
   "source": [
    "from typing import Callable\n",
    "def idling_state():\n",
    "    print(\"idling...\")\n",
    "    \n",
    "def processing_state():\n",
    "    print(\"processing...\")\n",
    "    \n",
    "    \n",
    "    \n",
    "class FunctionBasedStateManager:\n",
    "    def __init__(self):\n",
    "        self.state = idling_state\n",
    "\n",
    "    def transition_to(self,state:Callable):\n",
    "        self.state = state\n",
    "    \n",
    "    def execute_state(self):\n",
    "        self.state()\n",
    "    \n",
    "    def __repr__(self):\n",
    "        return f\"current state is {type(self.state)}\"\n",
    "\n",
    "manager = FunctionBasedStateManager()\n",
    "print(manager)\n",
    "manager.execute_state()\n",
    "\n",
    "manager.transition_to(processing_state)\n",
    "print(manager)\n",
    "manager.execute_state()\n"
   ],
   "metadata": {
    "collapsed": false
   }
  },
  {
   "cell_type": "markdown",
   "source": [
    "This can be further simplified in cases its needed though, scenarios like this are very unlikely"
   ],
   "metadata": {
    "collapsed": false
   }
  },
  {
   "cell_type": "code",
   "execution_count": null,
   "outputs": [],
   "source": [
    "dict_manager = {\n",
    "    \"idle\" : idling_state,\n",
    "    \"process\" : processing_state,\n",
    "}\n",
    "\n",
    "dict_manager[\"idle\"]()\n",
    "dict_manager[\"process\"]()"
   ],
   "metadata": {
    "collapsed": false
   }
  },
  {
   "cell_type": "markdown",
   "source": [
    "## Dependency injection\n",
    "Very different from the above patterns, rather then being very functional, dependency injection provides a very useful backdoor in testing. Lets say in banking system we obviously don't want execute the payment function everytime we test, which would be very costly probably, rather we can make a mock implementation for that and directly inject that into our code"
   ],
   "metadata": {
    "collapsed": false
   }
  },
  {
   "cell_type": "code",
   "execution_count": null,
   "outputs": [],
   "source": [
    "class PaymentProcessor:\n",
    "    def payment(self,amount,recipient):\n",
    "        print(f\"you paid {recipient}, {amount} pounds.\")\n",
    "\n",
    "def without_inject():\n",
    "    processor = PaymentProcessor()\n",
    "    processor.payment(1000,\"Juanpa\")\n",
    "    \n",
    "without_inject()"
   ],
   "metadata": {
    "collapsed": false
   }
  },
  {
   "cell_type": "markdown",
   "source": [
    "First lets do a dependency inversion on the code, so we can do dependency injection. Dependency inversion is basically the process of extracting dependencies from a function into an external source. In this case we don't have to modify too many thing anymore as payment processor is already its own class, however it is instantiated inside the function which we want to avoid."
   ],
   "metadata": {
    "collapsed": false
   }
  },
  {
   "cell_type": "code",
   "execution_count": null,
   "outputs": [],
   "source": [
    "# lets do inversion\n",
    "def with_inject(processor):\n",
    "    processor.payment(1000,\"Juanpa\")\n",
    "\n",
    "processor = PaymentProcessor()\n",
    "with_inject(processor)\n"
   ],
   "metadata": {
    "collapsed": false
   }
  },
  {
   "cell_type": "markdown",
   "source": [
    "Adding dependency injection"
   ],
   "metadata": {
    "collapsed": false
   }
  },
  {
   "cell_type": "code",
   "execution_count": null,
   "outputs": [],
   "source": [
    "class IProcessor(Protocol):\n",
    "    def payment(self,amount,recipient):\n",
    "        ...\n",
    "    \n",
    "class MockProcessor:\n",
    "    def payment(self,amount,recipient):\n",
    "        print(\"this is a test to the payment\")\n",
    "\n",
    "def with_inject(processor:IProcessor = PaymentProcessor()):\n",
    "    processor.payment(1000,\"Juanpa\")\n",
    "\n",
    "mock_payment_processor = MockProcessor()\n",
    "with_inject()    \n",
    "with_inject(mock_payment_processor)\n"
   ],
   "metadata": {
    "collapsed": false
   }
  },
  {
   "cell_type": "markdown",
   "source": [
    "## Decorator\n",
    "Decorator pattern can be quiet useful, for tasks that require both a start action and a stop action. The original version of this pattern is quiet complicated so we are going to avoid that for the time being"
   ],
   "metadata": {
    "collapsed": false
   }
  },
  {
   "cell_type": "code",
   "execution_count": null,
   "outputs": [],
   "source": [
    "\n",
    "\n",
    "def basic_decorator(function):\n",
    "    print(\"before function call\")\n",
    "    function()\n",
    "    print(\"after function call\")\n",
    "\n",
    "def some_function():\n",
    "    print(\"doing stuff\")\n",
    "\n",
    "basic_decorator(some_function)\n",
    "\n"
   ],
   "metadata": {
    "collapsed": false
   }
  },
  {
   "cell_type": "code",
   "execution_count": null,
   "outputs": [],
   "source": [
    "def differently_basic_decorator(some_data):\n",
    "\n",
    "    def some_function():\n",
    "        return \"doing stuff\"\n",
    "\n",
    "    return some_function() + some_data\n",
    "\n",
    "differently_basic_decorator(\" but cooler than the previous one\")\n"
   ],
   "metadata": {
    "collapsed": false
   }
  },
  {
   "cell_type": "code",
   "execution_count": null,
   "outputs": [],
   "source": [
    "class fancier_decorator:        \n",
    "    def __enter__(self):\n",
    "        print(\"entered decorator\")\n",
    "        \n",
    "    def __exit__(self, exc_type, exc_val, exc_tb):\n",
    "        print(\"exited decorator\")\n",
    "        \n",
    "with fancier_decorator():\n",
    "    some_function()"
   ],
   "metadata": {
    "collapsed": false
   }
  },
  {
   "cell_type": "markdown",
   "source": [
    "Here comes in play how functions and classes are interchangable"
   ],
   "metadata": {
    "collapsed": false
   }
  },
  {
   "cell_type": "code",
   "execution_count": null,
   "outputs": [],
   "source": [
    "class Decorator:\n",
    "    def __init__(self,func):\n",
    "        self.inner_func = func\n",
    "        \n",
    "    def __call__(self, *args, **kwargs):\n",
    "        print(\"before\")\n",
    "        self.inner_func()\n",
    "        print(\"after\")\n",
    "        \n",
    "decorator = Decorator(some_function)\n",
    "decorator()\n",
    "        "
   ],
   "metadata": {
    "collapsed": false
   }
  },
  {
   "cell_type": "code",
   "execution_count": null,
   "outputs": [],
   "source": [
    "def actually_fancy_decorator(func):\n",
    "    def wrapper():\n",
    "        print(\"entered decorator\")\n",
    "        func()\n",
    "        print(\"quit decorator\")\n",
    "    return wrapper\n",
    "\n",
    "@actually_fancy_decorator\n",
    "def fancier_some_func():\n",
    "    print(\"doing something fancy\")\n",
    "    \n",
    "fancier_some_func()"
   ],
   "metadata": {
    "collapsed": false
   }
  },
  {
   "cell_type": "markdown",
   "source": [
    "## Your task\n",
    " To implement a sword based on the decorator pattern and objects, to which you will need to add powers, such as physical and elemental damage. This should be grouped into a dictionary."
   ],
   "metadata": {
    "collapsed": false
   }
  },
  {
   "cell_type": "code",
   "execution_count": null,
   "outputs": [],
   "source": [
    "# Your solution here"
   ],
   "metadata": {
    "collapsed": false
   }
  }
 ],
 "metadata": {
  "language_info": {
   "name": "python"
  },
  "kernelspec": {
   "name": "python3",
   "language": "python",
   "display_name": "Python 3 (ipykernel)"
  }
 },
 "nbformat": 4,
 "nbformat_minor": 2
}
