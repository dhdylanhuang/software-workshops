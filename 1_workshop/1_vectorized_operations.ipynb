{
 "cells": [
  {
   "cell_type": "markdown",
   "metadata": {},
   "source": [
    "# Vectorized operations\n",
    "\n",
    "In this workshop you going to learn about one of the most fundamental block of datascience, called the vector operations. \\\n",
    "In order for this workshop to work you will need numpy to be installed"
   ]
  },
  {
   "cell_type": "code",
   "execution_count": null,
   "metadata": {},
   "outputs": [],
   "source": [
    "%pip install numpy"
   ]
  },
  {
   "cell_type": "markdown",
   "metadata": {},
   "source": [
    "And also matplotlib"
   ]
  },
  {
   "cell_type": "code",
   "execution_count": null,
   "metadata": {},
   "outputs": [],
   "source": [
    "%pip install matplotlib"
   ]
  },
  {
   "cell_type": "code",
   "execution_count": null,
   "metadata": {},
   "outputs": [],
   "source": [
    "import numpy as np\n",
    "import matplotlib.pyplot as plt"
   ]
  },
  {
   "cell_type": "markdown",
   "metadata": {},
   "source": [
    "## What is a vector? (Tensors)\n",
    "Vectors are the most fundamental data structure in data science. \\\n",
    "Vectors are a list of numbers, and they can be represented in many ways. \\\n",
    "The most common way is to represent them as a list of numbers, but they can also be represented as a matrix, or a tensor. \\\n",
    "In this workshop we will use the numpy library to represent vectors. \\\n",
    "Numpy is a library that is used for scientific computing, and it is the most common library used in data science. \\\n",
    "\n",
    "### Multi-dimensionality of vectors\n",
    "Vectors usually expand into multiple dimensions and depending on the scenario they can be understood differently. \\\n",
    "For images vectors are represnted as a matrix with usually 3 dimension (width, height, color). \\\n",
    "For text vectors are represented as a matrix with usually 2 dimensions (words, sentences). \\\n",
    "Or the above can be also interpreted as the sentence has huge amounts of dimensions, and each word is a dimension. \\\n"
   ]
  },
  {
   "cell_type": "markdown",
   "metadata": {},
   "source": [
    "## What are vectorized operations\n",
    "\n",
    "You can think of it as very fast matrix operations. It allows you to manipulate arrays, while still removing the performance over head of default lists. \\\n",
    "Here is an example:"
   ]
  },
  {
   "cell_type": "code",
   "execution_count": null,
   "metadata": {},
   "outputs": [],
   "source": [
    "def vec_add(a,b):\n",
    "    return a + b # vector addition\n",
    "\n",
    "array_1 = np.array([1,2,3,4,5])\n",
    "array_2 = np.array([6,7,8,9,10])\n",
    "\n",
    "print(vec_add(array_1, array_2))"
   ]
  },
  {
   "cell_type": "markdown",
   "metadata": {},
   "source": [
    "### Why is it so \"fast\"?\n",
    "Numpy leverages c as its backend such that runs with no overhead. It also leverages hardware acceleration, to process operations in parallel.\n",
    "\n",
    "But there is (as always) a catch! \\\n",
    "Numpy arrays arent mutable, meaning once they are created you can only modify them with making a new one (very expensive operation you want to avoid it) "
   ]
  },
  {
   "cell_type": "markdown",
   "metadata": {},
   "source": [
    "### Characteristics of Numpy arrays\n",
    "\n",
    "Numpy arrays are represented as one single continouos array in the memory.\n",
    "To actually give shapes to numpy arrays (multiple dimmensions), striding is used to determine each dimensions location.\n",
    "To access this metadata use the header of the array"
   ]
  },
  {
   "cell_type": "code",
   "execution_count": null,
   "metadata": {},
   "outputs": [],
   "source": [
    "print(f\"Strides: {array_1.strides}\")\n",
    "print(f\"Shape: {array_1.shape}\")\n",
    "print(f\"Data Type: {array_1.dtype}\")\n",
    "\n",
    "multi_dim_array = np.array([[1,2,3,4,5],[6,7,8,9,10]])\n",
    "print(multi_dim_array)\n",
    "\n",
    "print(f\"Strides: {multi_dim_array.strides}\")\n",
    "print(f\"Shape: {multi_dim_array.shape}\")\n",
    "print(f\"Data Type: {multi_dim_array.dtype}\")\n",
    "\n"
   ]
  },
  {
   "cell_type": "markdown",
   "metadata": {},
   "source": [
    "The strides are basically an addition in retrieveing memory data \\\n",
    "Above you see (20,4) where 4 is detemined by the data type 32 bits = 4 bytes and 20 is determined by the elements in the previous dimension 4*5 = 20 \\\n",
    "Such that to get from row 1 to row 2 you need to add 20 to the memory location of the first element of the first row. \\\n",
    "Changing the strides:"
   ]
  },
  {
   "cell_type": "code",
   "execution_count": null,
   "metadata": {},
   "outputs": [],
   "source": [
    "as_strided = np.lib.stride_tricks.as_strided\n",
    "as_strided(multi_dim_array,(5,2),(4,20))"
   ]
  },
  {
   "cell_type": "markdown",
   "metadata": {},
   "source": [
    "After changing the stripes you can see it transposed the array. \\\n",
    "This did not actually change the array it just changed the way we look at the \"memory\".\n",
    "This type of manipulation allows numpy to do mutation operations insanely fast."
   ]
  },
  {
   "cell_type": "markdown",
   "metadata": {},
   "source": [
    "### What operations are available\n",
    "A huge number of transforms or operations used in linear algebra is available from very basic to advanced ones.\n",
    "such as:"
   ]
  },
  {
   "cell_type": "code",
   "execution_count": null,
   "metadata": {},
   "outputs": [],
   "source": [
    "array_1 = np.array([1,2,3,4,5])\n",
    "array_2 = np.array([6,7,8,9,10])\n",
    "# addition\n",
    "print(array_1 + array_2)\n",
    "\n",
    "# subtraction\n",
    "print(array_1 - array_2)\n",
    "\n",
    "# multiplication\n",
    "print(array_1 * array_2)\n",
    "\n",
    "# division\n",
    "print(array_1 / array_2)\n"
   ]
  },
  {
   "cell_type": "markdown",
   "metadata": {},
   "source": [
    "### Mutation operations\n",
    "You can use operations like flip, transpose, swap axes. this basically just moves the strides around for more optimal operation."
   ]
  },
  {
   "cell_type": "code",
   "execution_count": null,
   "metadata": {},
   "outputs": [],
   "source": [
    "from PIL import Image\n",
    "meme = Image.open(\"meme.jpeg\")\n",
    "meme = np.array(meme)\n",
    "plt.imshow(meme)"
   ]
  },
  {
   "cell_type": "markdown",
   "metadata": {},
   "source": [
    "Reshaping is an other powerful operator that allows you to change the shape of the array. \\\n",
    "It does not change the actual representation of the array, it just changes the way we look at it, as mentioned above.\n",
    "To flatten an image for example (reserving the channels) you can use the reshape operator."
   ]
  },
  {
   "cell_type": "code",
   "execution_count": null,
   "metadata": {},
   "outputs": [],
   "source": [
    "reshaped_meme = meme.copy()\n",
    "reshaped_meme = np.reshape(reshaped_meme, (meme.shape[0]*meme.shape[1], meme.shape[2]))\n",
    "print(reshaped_meme.shape)"
   ]
  },
  {
   "cell_type": "code",
   "execution_count": null,
   "metadata": {},
   "outputs": [],
   "source": [
    "meme_flip = np.swapaxes(meme,0,1)\n",
    "plt.imshow(meme_flip)"
   ]
  },
  {
   "cell_type": "code",
   "execution_count": null,
   "metadata": {},
   "outputs": [],
   "source": [
    "meme_transpose = np.transpose(meme, axes=(1,0,2))\n",
    "plt.imshow(meme_transpose)"
   ]
  },
  {
   "cell_type": "code",
   "execution_count": null,
   "metadata": {},
   "outputs": [],
   "source": [
    "mirrored_meme = meme.copy()\n",
    "mirrored_meme = np.flip(mirrored_meme, axis=1)\n",
    "plt.imshow(mirrored_meme)"
   ]
  },
  {
   "cell_type": "code",
   "execution_count": null,
   "metadata": {},
   "outputs": [],
   "source": [
    "meme_color_swap = meme.copy()\n",
    "meme_color_swap[:,:,:] = meme[:,:,::-1] # \"walking\" back on the color axis\n",
    "\n",
    "plt.imshow(meme_color_swap)"
   ]
  },
  {
   "cell_type": "code",
   "execution_count": null,
   "metadata": {},
   "outputs": [],
   "source": [
    "upside_down_meme = meme.copy()\n",
    "upside_down_meme = np.flip(upside_down_meme, axis=0)\n",
    "plt.imshow(upside_down_meme)"
   ]
  },
  {
   "cell_type": "markdown",
   "metadata": {},
   "source": [
    "### Indexing of numpy arrays\n",
    "Indexing numpy arrays is similar to default lists, however they are way more flexible than standard list indices. \\\n",
    "Standard indexing:"
   ]
  },
  {
   "cell_type": "code",
   "execution_count": null,
   "metadata": {},
   "outputs": [],
   "source": [
    "print(meme.shape)\n",
    "print(meme[0,0,0])\n"
   ]
  },
  {
   "cell_type": "markdown",
   "metadata": {},
   "source": [
    "Numpy arrays also allow for slicing operations. This is great for extracting the areas of an array"
   ]
  },
  {
   "cell_type": "code",
   "execution_count": null,
   "metadata": {},
   "outputs": [],
   "source": [
    "meme_shape = meme.shape\n",
    "meme_half_shape = (meme_shape[0]//4, meme_shape[1]//4, meme_shape[2])\n",
    "center_meme = meme[meme_half_shape[0]:-meme_half_shape[0], meme_half_shape[1]:-meme_half_shape[1], :]\n",
    "plt.imshow(center_meme)\n",
    "print(center_meme.shape)"
   ]
  },
  {
   "cell_type": "markdown",
   "metadata": {},
   "source": [
    "You can also specify steps in slicing by using the third element in the slicer"
   ]
  },
  {
   "cell_type": "code",
   "execution_count": null,
   "metadata": {},
   "outputs": [],
   "source": [
    "squished_meme = meme.copy()\n",
    "squished_meme = squished_meme[::2,:, :]\n",
    "plt.imshow(squished_meme)"
   ]
  },
  {
   "cell_type": "code",
   "execution_count": null,
   "metadata": {},
   "outputs": [],
   "source": [
    "other_way_squished_meme = meme.copy()\n",
    "other_way_squished_meme = other_way_squished_meme[:, ::2, :] \n",
    "plt.imshow(other_way_squished_meme)"
   ]
  },
  {
   "cell_type": "markdown",
   "metadata": {},
   "source": [
    "Einsum is an other very useful operation for reshaping (in some frameworks), and swaping axes in a numpy array."
   ]
  },
  {
   "cell_type": "code",
   "execution_count": null,
   "metadata": {},
   "outputs": [],
   "source": [
    "meme_einsum = np.einsum(\"ijk->jik\", meme)\n",
    "plt.imshow(meme_einsum)\n"
   ]
  },
  {
   "cell_type": "markdown",
   "metadata": {},
   "source": [
    "### Broadcasting\n",
    "In numpy for most above mentioned operations require that the arrays have a certain shape such as you cant matrix mulitply (m x n) with (m x n) only (m x n) x (n x s)\n",
    "Because of this reason broad casting exists.\\\n",
    "Broadcasting allows for a temporary change in the orientation of the array.\\\n",
    "Its mostly handled by numpy but sometimes it has to be handled manually \\"
   ]
  },
  {
   "cell_type": "code",
   "execution_count": null,
   "metadata": {},
   "outputs": [],
   "source": [
    "# auto broadcasting\n",
    "array_1 = np.array([1,2,3,4,5])\n",
    "\n",
    "print(array_1 + 1) # creates an array with the same shape as the one above and adds 1 to each element"
   ]
  },
  {
   "cell_type": "code",
   "execution_count": null,
   "metadata": {},
   "outputs": [],
   "source": [
    "# manual broadcasting\n",
    "\n",
    "array_1 = np.arange(0,50,1, dtype=np.int32).reshape(10,5)\n",
    "print(f\"Original array: \\n{array_1}\",)\n",
    "mult_array = np.array([1,2,3,4,5])\n",
    "print(f\"Array to multiply with: \\n{mult_array}\")\n",
    "result = array_1 * mult_array[None,:]\n",
    "print(f\"Resulting array with broadcasting: \\n{result}\")\n"
   ]
  },
  {
   "cell_type": "markdown",
   "metadata": {},
   "source": [
    "Notice that the columns are mutiplied according to our second array\n",
    "it is essentially the same as doing this"
   ]
  },
  {
   "cell_type": "code",
   "execution_count": null,
   "metadata": {},
   "outputs": [],
   "source": [
    "array_2 = np.arange(0,50,1, dtype=np.int32).reshape(10,5)\n",
    "print(f\"Original array: \\n{array_1}\",)\n",
    "mult_array_2 = np.array([[1,2,3,4,5] for i in range(10)])\n",
    "print(f\"Array to multiply with: \\n{mult_array_2}\")\n",
    "result_2 = array_2 * mult_array_2\n",
    "print(f\"Resulting array with broadcasting: \\n{result_2}\")"
   ]
  },
  {
   "cell_type": "code",
   "execution_count": null,
   "metadata": {},
   "outputs": [],
   "source": [
    "# comparing the arrays together\n",
    "print(f\"Are arrays equal: {np.array_equal(result, result_2)}\")"
   ]
  },
  {
   "cell_type": "markdown",
   "metadata": {},
   "source": [
    "## Masking\n",
    "Masking is an other technique in numpy which provides ability to use a boolean array to \"enable\" and \"disable\" elements or dimensions"
   ]
  },
  {
   "cell_type": "code",
   "execution_count": null,
   "metadata": {},
   "outputs": [],
   "source": [
    "to_be_masked = np.arange(0,50,1, dtype=np.int32).reshape(10,5)\n",
    "print(f\"Original array: \\n{to_be_masked}\",)\n",
    "mask = np.array([True, False, True, False, True])\n",
    "print(f\"Mask: \\n{mask}\")\n",
    "masked_array = to_be_masked[:,mask]\n",
    "print(f\"Masked array: \\n{masked_array}\")\n"
   ]
  },
  {
   "cell_type": "markdown",
   "metadata": {},
   "source": [
    "# End of workshop continue for exercises\n",
    "\n",
    "Note: these exercises aren't mandatory if you know them otherwise it is very strongly recommended to go through them. It will also tell me how determined are you to work. \\\n",
    "Note: there are operations in numpy for basically everything, if you are looking for something I recommend googling it and looking at the documentation"
   ]
  },
  {
   "cell_type": "code",
   "execution_count": null,
   "metadata": {},
   "outputs": [],
   "source": [
    "def generate_chess():\n",
    "    board = np.zeros((8,8,3), dtype=np.int32)\n",
    "    board[::2, ::2, :] = 255\n",
    "    board[1::2, 1::2, :] = 255\n",
    "    return board\n",
    "\n",
    "board = generate_chess()\n",
    "\n",
    "plt.imshow(board)\n",
    "plt.show()"
   ]
  },
  {
   "cell_type": "markdown",
   "metadata": {},
   "source": [
    "Select only the black cells in the cell below with slicing, filtering, and boolean indexing"
   ]
  },
  {
   "cell_type": "code",
   "execution_count": null,
   "metadata": {},
   "outputs": [],
   "source": [
    "# your code here"
   ]
  },
  {
   "cell_type": "markdown",
   "metadata": {},
   "source": [
    "Rearrange the chess board into a 1D Vector"
   ]
  },
  {
   "cell_type": "code",
   "execution_count": null,
   "metadata": {},
   "outputs": [],
   "source": [
    "# your code here"
   ]
  },
  {
   "cell_type": "code",
   "execution_count": null,
   "metadata": {},
   "outputs": [],
   "source": [
    "\n",
    "assert one_board.shape == (64,3)\n",
    "assert np.all(one_board[0] == np.array([255,255,255]))"
   ]
  },
  {
   "cell_type": "markdown",
   "metadata": {},
   "source": [
    "Transpose the chess board (Note: It probably won't look any different)"
   ]
  },
  {
   "cell_type": "code",
   "execution_count": null,
   "metadata": {},
   "outputs": [],
   "source": [
    "# your code here"
   ]
  },
  {
   "cell_type": "markdown",
   "metadata": {},
   "source": [
    "Paint the most bottom right corner to pink (255,0,255) (name it to board_pk)"
   ]
  },
  {
   "cell_type": "code",
   "execution_count": null,
   "metadata": {},
   "outputs": [],
   "source": [
    "# your code here"
   ]
  },
  {
   "cell_type": "code",
   "execution_count": null,
   "metadata": {},
   "outputs": [],
   "source": [
    "plt.imshow(board_pk)"
   ]
  },
  {
   "cell_type": "code",
   "execution_count": null,
   "metadata": {},
   "outputs": [],
   "source": [
    "assert np.all(board_pk[-1,-1,:] == np.array([255,0,255])) "
   ]
  },
  {
   "cell_type": "markdown",
   "metadata": {},
   "source": [
    "Broadcast the chess board into 4D (B,H,W,C)"
   ]
  },
  {
   "cell_type": "code",
   "execution_count": null,
   "metadata": {},
   "outputs": [],
   "source": [
    "# Your code here"
   ]
  },
  {
   "cell_type": "code",
   "execution_count": null,
   "metadata": {},
   "outputs": [],
   "source": [
    "assert board_4D.shape == (1,8,8,3)"
   ]
  },
  {
   "cell_type": "markdown",
   "metadata": {},
   "source": [
    "In some deep learning frameworks channel first orientation is used (eg (3,256,256) instead of (256,256,3))\n",
    "Using a numpy function change the orientation of the chess board to channel first"
   ]
  },
  {
   "cell_type": "code",
   "execution_count": null,
   "metadata": {},
   "outputs": [],
   "source": [
    "# Your code here"
   ]
  },
  {
   "cell_type": "code",
   "execution_count": null,
   "metadata": {},
   "outputs": [],
   "source": [
    "assert board_channel_first.shape == (3,8,8)"
   ]
  },
  {
   "cell_type": "markdown",
   "metadata": {},
   "source": [
    "### This is the end of the lab\n",
    "if you got this far congratulations, and if you have any questions ask me"
   ]
  }
 ],
 "metadata": {
  "kernelspec": {
   "display_name": "land_class",
   "language": "python",
   "name": "python3"
  },
  "language_info": {
   "codemirror_mode": {
    "name": "ipython",
    "version": 3
   },
   "file_extension": ".py",
   "mimetype": "text/x-python",
   "name": "python",
   "nbconvert_exporter": "python",
   "pygments_lexer": "ipython3",
   "version": "3.10.12"
  },
  "orig_nbformat": 4
 },
 "nbformat": 4,
 "nbformat_minor": 2
}
