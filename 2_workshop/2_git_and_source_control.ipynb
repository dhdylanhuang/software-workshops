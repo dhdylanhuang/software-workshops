{
 "cells": [
  {
   "cell_type": "markdown",
   "metadata": {},
   "source": [
    "# Source control"
   ]
  },
  {
   "cell_type": "markdown",
   "metadata": {},
   "source": [
    "This lab is going to be a bit different from the previous ones, as we wont write any code directly. Instead, we will learn about source control and how to use it with git and GitHub."
   ]
  },
  {
   "cell_type": "markdown",
   "metadata": {},
   "source": [
    "### Prerequisites\n",
    "\n",
    "You will need to have git installed and you need to have a github account. If you don't have a github account, you can create one [here](https://github.com/join).\n",
    "\\\n",
    "Normally all commands would be ran from the terminal for the sake of this workshop we will use the jupyter notebook to run the commands. This is possible by using magic commands. Magic commands are special commands that are not part of the python language but are part of the jupyter notebook. They are prefixed with a `%` or `%%` and are not case sensitive. For example, to run the command `ls` in the terminal, we would use the magic command `%ls` in the notebook.\n"
   ]
  },
  {
   "cell_type": "markdown",
   "metadata": {},
   "source": [
    "For example to get the source status of this repo we could do the following:\n",
    "\n",
    "```bash\n",
    "git status ../\n",
    "```\n",
    "\n",
    "Where git invokes the git application, status is the command we want to run and `../` is the path to the repo."
   ]
  },
  {
   "cell_type": "code",
   "execution_count": null,
   "metadata": {},
   "outputs": [],
   "source": [
    "%git status ../"
   ]
  },
  {
   "cell_type": "code",
   "execution_count": null,
   "metadata": {},
   "outputs": [],
   "source": []
  }
 ],
 "metadata": {
  "language_info": {
   "name": "python"
  }
 },
 "nbformat": 4,
 "nbformat_minor": 2
}
