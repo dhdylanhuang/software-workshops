{
 "cells": [
  {
   "cell_type": "markdown",
   "metadata": {},
   "source": [
    "# Source control"
   ]
  },
  {
   "cell_type": "markdown",
   "metadata": {},
   "source": [
    "This lab is going to be a bit different from the previous one, as we wont write any code directly. Instead, we will learn about source control and how to use it with git and GitHub.\n",
    "\n",
    "## What is source control?\n",
    "Source control is system specifically design to track changes in the code base over time, and to allow multiple people to work on the same code base at the same time. It is also known as version control or revision control.\n",
    "\n",
    "### Why do we need source control?\n",
    "Source control works somewhat differently to other cloud solution. In source control usually not syncing entire code bases, but only the changes in the code line by line. This allows for much more efficient collaboration, decreased syncing time as well as the ability to revert to previous versions of the code base. The later is because of the nature of source control (such that it tracks the changes rather than just uploads the entire code base)."
   ]
  },
  {
   "cell_type": "markdown",
   "metadata": {},
   "source": [
    "### Prerequisites\n",
    "You will need to have git installed and you need to have a github account. If you don't have a github account, you can create one [here](https://github.com/join).\n",
    "\\\n",
    "Normally all commands would be ran from the terminal for the sake of this workshop we will use the jupyter notebook to run the commands. This is possible by using magic commands. Magic commands are special commands that are not part of the python language but are part of the jupyter notebook. They are prefixed with a `!`. For example, to run the `ls` (listing a library in unix) command in the terminal we would write `!ls` in the jupyter notebook.\n"
   ]
  },
  {
   "cell_type": "markdown",
   "metadata": {},
   "source": [
    "For example to get the source status of this repo we could do the following:\n",
    "\n",
    "```bash\n",
    "git status ../\n",
    "```\n",
    "\n",
    "Where git invokes the git application, status is the command we want to run and `../` is the path to the repo."
   ]
  },
  {
   "cell_type": "code",
   "execution_count": null,
   "metadata": {},
   "outputs": [],
   "source": [
    "!git status ../"
   ]
  },
  {
   "cell_type": "markdown",
   "metadata": {},
   "source": [
    "### Adding files to source control\n",
    "Adding files to source control usually follows the following steps:\n",
    "1. add a file to staging\n",
    "2. commit the file to the repo\n",
    "3. push the changes to the remote repo\n",
    "\n",
    "To add a file to the repo\n",
    "```bash\n",
    "git add <file>\n",
    "```\n",
    "\n",
    "To commit a file to the repo\n",
    "```bash\n",
    "git commit -m \"commit message\"\n",
    "```\n",
    "\n",
    "To push the changes to the remote repo\n",
    "```bash\n",
    "git push\n",
    "```\n",
    "\n",
    "Now create a file under your name in the 2_workshop/demo/ folder. Add the file to the repo, commit the file and push the changes to the remote repo."
   ]
  },
  {
   "cell_type": "code",
   "execution_count": null,
   "metadata": {},
   "outputs": [],
   "source": [
    "# Add file\n",
    "# Your command here:"
   ]
  },
  {
   "cell_type": "code",
   "execution_count": null,
   "metadata": {},
   "outputs": [],
   "source": [
    "# Commit file\n",
    "# Your command here:"
   ]
  },
  {
   "cell_type": "code",
   "execution_count": null,
   "metadata": {},
   "outputs": [],
   "source": [
    "# Push file\n",
    "# Your command here:"
   ]
  },
  {
   "cell_type": "markdown",
   "metadata": {},
   "source": [
    "### Stashing\n",
    "Sometimes you want to save your changes but you don't want to commit them. This is where stashing comes in. Stashing allows you to save your changes and revert to the last commit. This is useful when you want to switch branches but you don't want to commit and lose your changes.\n",
    "```bash\n",
    "git stash\n",
    "```"
   ]
  },
  {
   "cell_type": "markdown",
   "metadata": {},
   "source": [
    "## Branches\n",
    "\n",
    "Branches in source control are used to isolate changes from the main branch. This is useful when you want to work on a feature without affecting the main branch. This also allows the modification of the same file by multiple people and allows further analysis of the code base for erros. \\\n",
    "Once you are done with the feature you can merge the changes back into the main branch.\n",
    "To do this you have to run\n",
    "```bash\n",
    "git checkout -b <branch_name>\n",
    "```\n",
    "Which will create a local branch that you can commit your changes to.\\\n",
    "If you want to push the branch\n",
    "```bash\n",
    "git push -u origin <branch_name>\n",
    "```\n",
    "This will create a remote branch with the same name as the local branch.\\\n",
    "Once the feature is completed we can merge these changes back into main.\n",
    "```bash\n",
    "git checkout main\n",
    "git merge <branch_name>\n",
    "```\n",
    "Create a branch under your name and push it to the remote repo. Once you done that try merging the branch back into main."
   ]
  },
  {
   "cell_type": "code",
   "execution_count": null,
   "metadata": {},
   "outputs": [],
   "source": [
    "# Create local branch\n",
    "# Your command here:"
   ]
  },
  {
   "cell_type": "code",
   "execution_count": null,
   "metadata": {},
   "outputs": [],
   "source": [
    "# Push local branch to remote\n",
    "# Your command here:"
   ]
  },
  {
   "cell_type": "code",
   "execution_count": null,
   "metadata": {},
   "outputs": [],
   "source": [
    "# Merge branch\n",
    "# Your command here:"
   ]
  },
  {
   "cell_type": "markdown",
   "metadata": {},
   "source": [
    "### Rebase\n",
    "Sometimes you need to update your branch, as there was change introduced to the main that your feature depends on. This can be done by rebasing your branch on the branch you want to up to date with. \n",
    "\n",
    "```bash\n",
    "git rebase <branch_name>\n",
    "```\n",
    "then this has to be push to the remote repo with the `-f` flag. \n",
    "**Warning** this will overwrite the remote branch with the local branch (the `-f`/`--force` flag specifically) use it with caution it could also wipe changes from the remote.\n",
    "```bash\n",
    "git push -f\n",
    "```"
   ]
  },
  {
   "cell_type": "markdown",
   "metadata": {},
   "source": [
    "### But why do we need branches\n",
    "Can't we just commit all our code to main and be done with it?\\\n",
    "The problem with that technique comes out when you and multiple other people are collaborating on the same project. If you all commit to main, you will have to deal with merge conflicts. Merge conflicts happen when two people modify the same file and try to merge their changes back into main. This can be a very tedious process and can be avoided by using branches.\n",
    "These branches should be kept relatively small, around 300-500 lines of code modification, to both avoid merge conflicts and allow reviews on the changed code base."
   ]
  },
  {
   "cell_type": "markdown",
   "metadata": {},
   "source": [
    "## Branching strategies\n",
    "There are multiple branching strategies in existance however we only going to talk about a few of them in this workshop.\\\n",
    " - Feature branching\n",
    " - Gitflow\n",
    " - Staging branching\n",
    "\n",
    "### Feature branching\n",
    "Feature branching refers to the type of branching in which developer open a new branch for each feature then they merge that into main once the feature is completed. This is the most common branching strategy and is used by most companies.\n",
    "\n",
    "```\n",
    "     /---feature1---\\\n",
    "---------------------x-----------x-----------------------x-------> \n",
    "                \\---feature2---/        \\---feature3---/\n",
    "\n",
    "```\n",
    "### Staging branching\n",
    "Staging branching is a branching strategy in which there is a staging branch that is used to test the code before merging it into main. This is useful when you want to test the code before merging it into main.\\\n",
    "In this scenario there is usually a development branch to which code is merged into usually, once the code is tested it is merged into staging, where at it tested in a more realistic environment and then into main or production at which it is closely monitored.\n",
    "\n",
    "```\n",
    "\n",
    "main---------------------------x-------->\n",
    "                              /\n",
    "staging---------------------x------>\n",
    "                           /\n",
    "development--------------->\n",
    "\n",
    "```\n",
    "\n",
    "### Gitflow\n",
    "Gitflow is a similar branching strategy to the combination of staging and feature branching, however it differs from that in the way that it changes the main and staging to one release branch.\n",
    "\n",
    "```\n",
    "release------------------------x-------->\n",
    "                              /\n",
    "development------------------>\n",
    "\n",
    "```\n",
    "\n",
    "### Other strategies\n",
    "It is important to note that branching strategies has to be optimised to a specific problem at hand and usually only here to provide a guideline on how to go about branching for a project."
   ]
  },
  {
   "cell_type": "markdown",
   "metadata": {},
   "source": [
    "## CI/CD\n",
    "CI/CD stands for continuous integration and continuous deployment. It is a set of practices that allows for the automation of the build and deployment process. This is usually done by using a CI/CD tool such as Jenkins, CircleCI, TravisCI, etc.\\\n",
    "\n",
    "### Why do we need CI/CD\n",
    "CI/CD is used in many areas of software engineering. It supposed to help catch errors early in the development stage. It is also usefull for automating deployment processing, making distribution of software easier.\n",
    "\n",
    "### CI/CD in the context of this workshop\n",
    "pipelines are triggered by an event occuring in the repository. Examples for this is push to a branch, a pull request etc.\n",
    "The pipeline is then run on a virtual machine, where the code is built and tested. If the tests pass the code is deployed to a server.\\\n",
    "In the context of branching strategies, it is very common practice to run different pipelines on the different branches. For example, you might want to run a pipeline that only builds and tests the code on the development branch, but you might want to run a pipeline that builds, tests and deploys the code on the main branch.\n",
    "In context of staging branching (Demonstrates how the utilities library is using pipelines):\n",
    "\n",
    "```\n",
    "main---------------------------x--------> ¦ CD - pipeline -> Deploys to PyPi, DockerHub, and Github Pages (for docs)\n",
    "                              /           ¦ CI - pipeline -> Runs tests + main tests\n",
    "                             /            ¦ \n",
    "staging---------------------x------>      ¦ CD - pipeline -> Deploys to PyPi (Release candidate)\n",
    "                           /              ¦ CI - pipeline -> Runs tests + staging tests\n",
    "                          /               ¦ \n",
    "development------------------>            ¦ CD - pipeline -> No deployment\n",
    "                                          ¦ CI - pipeline -> Runs tests development\n",
    "\n",
    "```\n"
   ]
  },
  {
   "cell_type": "markdown",
   "metadata": {},
   "source": [
    "## Versioning\n",
    "When deploying software systems it is very important to version the code that we are deploying. This is done by using semantic versioning. Semantic versioning is a way of versioning software that allows for easy identification of the changes in the code base.\\\n",
    "Semantic versioning is done by using the following format:\\\n",
    "`<major>.<minor>.<patch>`\\\n",
    "\\\n",
    "Where \\\n",
    "major means there is a breaking change introduced to the external api\\\n",
    "minor means there is a new feature introduced\\\n",
    "patch means there is a bug fix introduced \\\n",
    "\\\n",
    "The reason this is needed so you can specify versions compatible with the product"
   ]
  },
  {
   "cell_type": "markdown",
   "metadata": {},
   "source": []
  }
 ],
 "metadata": {
  "kernelspec": {
   "display_name": "Python 3 (ipykernel)",
   "language": "python",
   "name": "python3"
  },
  "language_info": {
   "codemirror_mode": {
    "name": "ipython",
    "version": 3
   },
   "file_extension": ".py",
   "mimetype": "text/x-python",
   "name": "python",
   "nbconvert_exporter": "python",
   "pygments_lexer": "ipython3",
   "version": "3.10.12"
  }
 },
 "nbformat": 4,
 "nbformat_minor": 4
}
